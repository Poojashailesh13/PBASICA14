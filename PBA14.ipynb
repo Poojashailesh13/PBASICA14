{
 "cells": [
  {
   "cell_type": "raw",
   "id": "a0f7c52b",
   "metadata": {},
   "source": [
    "1. What does RGBA stand for?\n",
    "ANS- An RGBA value is a group of numbers that specify the amount of red, green, blue, and alpha (or transparency) in a color."
   ]
  },
  {
   "cell_type": "raw",
   "id": "c4834cac",
   "metadata": {},
   "source": [
    "2. From the Pillow module, how do you get the RGBA value of any images?\n",
    "ANS- ImageColor.getcolor() gives rgba value of any image."
   ]
  },
  {
   "cell_type": "raw",
   "id": "1baba0cd",
   "metadata": {},
   "source": [
    "3. What is a box tuple, and how does it work?\n",
    "ANS- Box tuple is container of tuple of four integers where x-coordinate is represented by left edge, y-coordinate by top\n",
    "edge width and height respectively."
   ]
  },
  {
   "cell_type": "raw",
   "id": "808cbc35",
   "metadata": {},
   "source": [
    "4. Use your image and load in notebook then, How can you find out the width and height of an\n",
    "Image object?\n",
    "ANS- from PIL import Image\n",
    "pic = PIL.Image.open('trial.jpg')\n",
    "width = pic.width\n",
    "height = pic.height\n",
    "\n",
    "print(\"width and height of image is {}, {} respectively\".format(width,height))"
   ]
  },
  {
   "cell_type": "raw",
   "id": "61e1ddda",
   "metadata": {},
   "source": [
    "5. What method would you call to get Image object for a 100×100 image, excluding the lower-left\n",
    "quarter of it?\n",
    "ANS- imageObj.crop((0, 50, 50, 50))"
   ]
  },
  {
   "cell_type": "raw",
   "id": "d540d00b",
   "metadata": {},
   "source": [
    "6. After making changes to an Image object, how could you save it as an image file?\n",
    "ANS- imageObj.save('new_name.jpg')"
   ]
  },
  {
   "cell_type": "raw",
   "id": "b5f156b5",
   "metadata": {},
   "source": [
    "7. What module contains Pillow’s shape-drawing code?\n",
    "ANS- ImageDraw module"
   ]
  },
  {
   "cell_type": "code",
   "execution_count": null,
   "id": "f845abe5",
   "metadata": {},
   "outputs": [],
   "source": [
    "8. Image objects do not have drawing methods. What kind of object does? How do you get this kind\n",
    "of object?\n",
    "ANS- They have shape drawing methods like line(), point(), rectangle()\n",
    "we can call they by using ImageDraw.Draw() function."
   ]
  }
 ],
 "metadata": {
  "kernelspec": {
   "display_name": "Python 3 (ipykernel)",
   "language": "python",
   "name": "python3"
  },
  "language_info": {
   "codemirror_mode": {
    "name": "ipython",
    "version": 3
   },
   "file_extension": ".py",
   "mimetype": "text/x-python",
   "name": "python",
   "nbconvert_exporter": "python",
   "pygments_lexer": "ipython3",
   "version": "3.9.7"
  }
 },
 "nbformat": 4,
 "nbformat_minor": 5
}
